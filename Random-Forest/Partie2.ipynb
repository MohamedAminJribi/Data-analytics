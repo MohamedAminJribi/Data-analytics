{
 "cells": [
  {
   "cell_type": "code",
   "execution_count": 1,
   "id": "a44d61ab-5416-421d-ba90-c26361acde66",
   "metadata": {},
   "outputs": [],
   "source": [
    "import numpy as np\n",
    "import pandas as pd\n",
    "import matplotlib.pyplot as plt\n",
    "from sklearn.preprocessing import LabelEncoder\n",
    "from sklearn.linear_model import LinearRegression\n",
    "from sklearn.linear_model import LogisticRegression\n",
    "from sklearn.tree import DecisionTreeClassifier\n",
    "from sklearn.ensemble import RandomForestClassifier"
   ]
  },
  {
   "cell_type": "code",
   "execution_count": 2,
   "id": "1c734c53-8748-451c-a4be-747de9b3e29e",
   "metadata": {},
   "outputs": [
    {
     "data": {
      "text/html": [
       "<div>\n",
       "<style scoped>\n",
       "    .dataframe tbody tr th:only-of-type {\n",
       "        vertical-align: middle;\n",
       "    }\n",
       "\n",
       "    .dataframe tbody tr th {\n",
       "        vertical-align: top;\n",
       "    }\n",
       "\n",
       "    .dataframe thead th {\n",
       "        text-align: right;\n",
       "    }\n",
       "</style>\n",
       "<table border=\"1\" class=\"dataframe\">\n",
       "  <thead>\n",
       "    <tr style=\"text-align: right;\">\n",
       "      <th></th>\n",
       "      <th>client_age</th>\n",
       "      <th>contact_duration</th>\n",
       "      <th>contacts_campaign</th>\n",
       "      <th>days_since_previous_contact</th>\n",
       "      <th>previous_contacts</th>\n",
       "      <th>employment_variation_rate</th>\n",
       "      <th>consumer_price_index</th>\n",
       "      <th>consumer_confidence_index</th>\n",
       "      <th>euribor_3_months_rate</th>\n",
       "      <th>number_employees</th>\n",
       "      <th>...</th>\n",
       "      <th>period_oct_mon</th>\n",
       "      <th>period_oct_thu</th>\n",
       "      <th>period_oct_tue</th>\n",
       "      <th>period_oct_wed</th>\n",
       "      <th>period_sep_fri</th>\n",
       "      <th>period_sep_mon</th>\n",
       "      <th>period_sep_thu</th>\n",
       "      <th>period_sep_tue</th>\n",
       "      <th>period_sep_wed</th>\n",
       "      <th>y</th>\n",
       "    </tr>\n",
       "  </thead>\n",
       "  <tbody>\n",
       "    <tr>\n",
       "      <th>0</th>\n",
       "      <td>33.0</td>\n",
       "      <td>69.0</td>\n",
       "      <td>1.0</td>\n",
       "      <td>-1.0</td>\n",
       "      <td>0.0</td>\n",
       "      <td>-1.8</td>\n",
       "      <td>92.893</td>\n",
       "      <td>-46.2</td>\n",
       "      <td>1.540246</td>\n",
       "      <td>5099.100000</td>\n",
       "      <td>...</td>\n",
       "      <td>False</td>\n",
       "      <td>False</td>\n",
       "      <td>False</td>\n",
       "      <td>False</td>\n",
       "      <td>False</td>\n",
       "      <td>False</td>\n",
       "      <td>False</td>\n",
       "      <td>False</td>\n",
       "      <td>False</td>\n",
       "      <td>0</td>\n",
       "    </tr>\n",
       "    <tr>\n",
       "      <th>1</th>\n",
       "      <td>25.0</td>\n",
       "      <td>206.0</td>\n",
       "      <td>1.0</td>\n",
       "      <td>-1.0</td>\n",
       "      <td>0.0</td>\n",
       "      <td>1.4</td>\n",
       "      <td>93.918</td>\n",
       "      <td>-42.7</td>\n",
       "      <td>4.768843</td>\n",
       "      <td>5228.100000</td>\n",
       "      <td>...</td>\n",
       "      <td>False</td>\n",
       "      <td>False</td>\n",
       "      <td>False</td>\n",
       "      <td>False</td>\n",
       "      <td>False</td>\n",
       "      <td>False</td>\n",
       "      <td>False</td>\n",
       "      <td>False</td>\n",
       "      <td>False</td>\n",
       "      <td>0</td>\n",
       "    </tr>\n",
       "    <tr>\n",
       "      <th>2</th>\n",
       "      <td>25.0</td>\n",
       "      <td>120.0</td>\n",
       "      <td>1.0</td>\n",
       "      <td>-1.0</td>\n",
       "      <td>0.0</td>\n",
       "      <td>-1.8</td>\n",
       "      <td>93.075</td>\n",
       "      <td>-47.1</td>\n",
       "      <td>1.339274</td>\n",
       "      <td>5099.100000</td>\n",
       "      <td>...</td>\n",
       "      <td>False</td>\n",
       "      <td>False</td>\n",
       "      <td>False</td>\n",
       "      <td>False</td>\n",
       "      <td>False</td>\n",
       "      <td>False</td>\n",
       "      <td>False</td>\n",
       "      <td>False</td>\n",
       "      <td>False</td>\n",
       "      <td>1</td>\n",
       "    </tr>\n",
       "    <tr>\n",
       "      <th>3</th>\n",
       "      <td>57.0</td>\n",
       "      <td>231.0</td>\n",
       "      <td>3.0</td>\n",
       "      <td>-1.0</td>\n",
       "      <td>0.0</td>\n",
       "      <td>1.4</td>\n",
       "      <td>93.918</td>\n",
       "      <td>-42.7</td>\n",
       "      <td>4.669467</td>\n",
       "      <td>5417.510274</td>\n",
       "      <td>...</td>\n",
       "      <td>False</td>\n",
       "      <td>False</td>\n",
       "      <td>False</td>\n",
       "      <td>False</td>\n",
       "      <td>False</td>\n",
       "      <td>False</td>\n",
       "      <td>False</td>\n",
       "      <td>False</td>\n",
       "      <td>False</td>\n",
       "      <td>0</td>\n",
       "    </tr>\n",
       "    <tr>\n",
       "      <th>4</th>\n",
       "      <td>59.0</td>\n",
       "      <td>216.0</td>\n",
       "      <td>3.0</td>\n",
       "      <td>-1.0</td>\n",
       "      <td>0.0</td>\n",
       "      <td>1.4</td>\n",
       "      <td>94.465</td>\n",
       "      <td>-41.8</td>\n",
       "      <td>5.064369</td>\n",
       "      <td>5228.100000</td>\n",
       "      <td>...</td>\n",
       "      <td>False</td>\n",
       "      <td>False</td>\n",
       "      <td>False</td>\n",
       "      <td>False</td>\n",
       "      <td>False</td>\n",
       "      <td>False</td>\n",
       "      <td>False</td>\n",
       "      <td>False</td>\n",
       "      <td>False</td>\n",
       "      <td>0</td>\n",
       "    </tr>\n",
       "  </tbody>\n",
       "</table>\n",
       "<p>5 rows × 100 columns</p>\n",
       "</div>"
      ],
      "text/plain": [
       "   client_age  contact_duration  contacts_campaign  \\\n",
       "0        33.0              69.0                1.0   \n",
       "1        25.0             206.0                1.0   \n",
       "2        25.0             120.0                1.0   \n",
       "3        57.0             231.0                3.0   \n",
       "4        59.0             216.0                3.0   \n",
       "\n",
       "   days_since_previous_contact  previous_contacts  employment_variation_rate  \\\n",
       "0                         -1.0                0.0                       -1.8   \n",
       "1                         -1.0                0.0                        1.4   \n",
       "2                         -1.0                0.0                       -1.8   \n",
       "3                         -1.0                0.0                        1.4   \n",
       "4                         -1.0                0.0                        1.4   \n",
       "\n",
       "   consumer_price_index  consumer_confidence_index  euribor_3_months_rate  \\\n",
       "0                92.893                      -46.2               1.540246   \n",
       "1                93.918                      -42.7               4.768843   \n",
       "2                93.075                      -47.1               1.339274   \n",
       "3                93.918                      -42.7               4.669467   \n",
       "4                94.465                      -41.8               5.064369   \n",
       "\n",
       "   number_employees  ...  period_oct_mon  period_oct_thu  period_oct_tue  \\\n",
       "0       5099.100000  ...           False           False           False   \n",
       "1       5228.100000  ...           False           False           False   \n",
       "2       5099.100000  ...           False           False           False   \n",
       "3       5417.510274  ...           False           False           False   \n",
       "4       5228.100000  ...           False           False           False   \n",
       "\n",
       "   period_oct_wed  period_sep_fri  period_sep_mon  period_sep_thu  \\\n",
       "0           False           False           False           False   \n",
       "1           False           False           False           False   \n",
       "2           False           False           False           False   \n",
       "3           False           False           False           False   \n",
       "4           False           False           False           False   \n",
       "\n",
       "   period_sep_tue  period_sep_wed  y  \n",
       "0           False           False  0  \n",
       "1           False           False  0  \n",
       "2           False           False  1  \n",
       "3           False           False  0  \n",
       "4           False           False  0  \n",
       "\n",
       "[5 rows x 100 columns]"
      ]
     },
     "execution_count": 2,
     "metadata": {},
     "output_type": "execute_result"
    }
   ],
   "source": [
    "df = pd.read_csv(\"dataset_cleaned.csv\")\n",
    "df.head()"
   ]
  },
  {
   "cell_type": "code",
   "execution_count": 3,
   "id": "83d2a85c-021b-414b-88e2-a8a4126a8388",
   "metadata": {},
   "outputs": [],
   "source": [
    "import numpy as np # linear algebra\n",
    "import pandas as pd # data processing, CSV file I/O (e.g. pd.read_csv)\n",
    "import matplotlib.pyplot as plt # data visualization\n",
    "import seaborn as sns # statistical data visualization"
   ]
  },
  {
   "cell_type": "code",
   "execution_count": 4,
   "id": "2c8eed9f-7c5d-4148-b3d0-eefda2b5af56",
   "metadata": {},
   "outputs": [],
   "source": [
    "import warnings\n",
    "\n",
    "warnings.filterwarnings('ignore')"
   ]
  },
  {
   "cell_type": "code",
   "execution_count": 5,
   "id": "fe863200-b8c3-46f5-8470-1248ef7db65f",
   "metadata": {},
   "outputs": [
    {
     "data": {
      "text/plain": [
       "0    25899\n",
       "1    25899\n",
       "Name: y, dtype: int64"
      ]
     },
     "execution_count": 5,
     "metadata": {},
     "output_type": "execute_result"
    }
   ],
   "source": [
    "df['y'].value_counts()"
   ]
  },
  {
   "cell_type": "code",
   "execution_count": 6,
   "id": "fe286bb4-f7c0-4ca3-8fac-43acaf683b33",
   "metadata": {},
   "outputs": [],
   "source": [
    "# Declare feature vector and target variable\n",
    "X = df.drop(['y'], axis=1)\n",
    "y = df['y']"
   ]
  },
  {
   "cell_type": "code",
   "execution_count": 7,
   "id": "667c31cb-b9bc-497a-9953-36b83cfc41b3",
   "metadata": {},
   "outputs": [],
   "source": [
    "#11. Split data into separate training and test set\n",
    "from sklearn.model_selection import train_test_split\n",
    "\n",
    "X_train, X_test, y_train, y_test = train_test_split(X, y, test_size = 0.33, random_state = 42)"
   ]
  },
  {
   "cell_type": "code",
   "execution_count": 8,
   "id": "78f0869d-f526-4c39-b25b-900846bfaf1a",
   "metadata": {},
   "outputs": [
    {
     "name": "stdout",
     "output_type": "stream",
     "text": [
      "Model accuracy score with 10 decision-trees : 0.9552\n"
     ]
    }
   ],
   "source": [
    "# import Random Forest classifier\n",
    "\n",
    "from sklearn.ensemble import RandomForestClassifier\n",
    "\n",
    "\n",
    "\n",
    "# instantiate the classifier \n",
    "\n",
    "rfc = RandomForestClassifier(random_state=0)\n",
    "\n",
    "\n",
    "\n",
    "# fit the model\n",
    "\n",
    "rfc.fit(X_train, y_train)\n",
    "\n",
    "\n",
    "\n",
    "# Predict the Test set results\n",
    "\n",
    "y_pred = rfc.predict(X_test)\n",
    "\n",
    "\n",
    "\n",
    "# Check accuracy score \n",
    "\n",
    "from sklearn.metrics import accuracy_score\n",
    "\n",
    "print('Model accuracy score with 10 decision-trees : {0:0.4f}'. format(accuracy_score(y_test, y_pred)))"
   ]
  },
  {
   "cell_type": "code",
   "execution_count": 9,
   "id": "a44ea641-4089-46c8-ade9-e1f48347866b",
   "metadata": {},
   "outputs": [
    {
     "name": "stdout",
     "output_type": "stream",
     "text": [
      "Confusion matrix\n",
      "\n",
      " [[8275  293]\n",
      " [ 472 8054]]\n"
     ]
    }
   ],
   "source": [
    "# Print the Confusion Matrix and slice it into four pieces\n",
    "\n",
    "from sklearn.metrics import confusion_matrix\n",
    "\n",
    "cm = confusion_matrix(y_test, y_pred)\n",
    "\n",
    "print('Confusion matrix\\n\\n', cm)"
   ]
  },
  {
   "cell_type": "code",
   "execution_count": 10,
   "id": "6f3819fc-b667-47a1-b4d5-9ebb0e9a317b",
   "metadata": {},
   "outputs": [
    {
     "name": "stdout",
     "output_type": "stream",
     "text": [
      "              precision    recall  f1-score   support\n",
      "\n",
      "           0       0.95      0.97      0.96      8568\n",
      "           1       0.96      0.94      0.95      8526\n",
      "\n",
      "    accuracy                           0.96     17094\n",
      "   macro avg       0.96      0.96      0.96     17094\n",
      "weighted avg       0.96      0.96      0.96     17094\n",
      "\n"
     ]
    }
   ],
   "source": [
    "from sklearn.metrics import classification_report\n",
    "\n",
    "print(classification_report(y_test, y_pred))"
   ]
  },
  {
   "cell_type": "code",
   "execution_count": 24,
   "id": "97bbd09a-fab6-448a-9383-e5f9c9f0b071",
   "metadata": {},
   "outputs": [
    {
     "data": {
      "text/plain": [
       "contact_duration              0.226965\n",
       "euribor_3_months_rate         0.051119\n",
       "number_employees              0.042076\n",
       "housing_loan_yes              0.041306\n",
       "employment_variation_rate     0.041138\n",
       "                                ...   \n",
       "period_dec_tue                0.000081\n",
       "period_dec_fri                0.000049\n",
       "period_dec_thu                0.000048\n",
       "education_level_illiterate    0.000013\n",
       "credit_default_yes            0.000000\n",
       "Length: 99, dtype: float64"
      ]
     },
     "execution_count": 24,
     "metadata": {},
     "output_type": "execute_result"
    }
   ],
   "source": [
    "# view the feature scores\n",
    "import pandas as pd\n",
    "\n",
    "feature_scores = pd.Series(rfc.feature_importances_, index=X_train.columns).sort_values(ascending=False)\n",
    "\n",
    "feature_scores"
   ]
  },
  {
   "cell_type": "code",
   "execution_count": 34,
   "id": "dbe63a1e-de47-46e1-8380-6eaee1cac4d9",
   "metadata": {},
   "outputs": [
    {
     "data": {
      "text/plain": [
       "PCA()"
      ]
     },
     "execution_count": 34,
     "metadata": {},
     "output_type": "execute_result"
    }
   ],
   "source": [
    "# Step 2: Apply PCA with all components\n",
    "from sklearn.decomposition import PCA\n",
    "pca = PCA()\n",
    "pca.fit(X_train)  "
   ]
  },
  {
   "cell_type": "code",
   "execution_count": 37,
   "id": "2e349130-92d9-4038-af33-65cc5bd3b730",
   "metadata": {},
   "outputs": [
    {
     "name": "stdout",
     "output_type": "stream",
     "text": [
      "Explained Variance Ratio: [6.26840282e-01 3.07794783e-01 4.12267037e-02 2.33339110e-02\n",
      " 7.66078885e-04 1.40376785e-05 1.02543572e-05 1.31856299e-06\n",
      " 9.65991303e-07 8.52867634e-07 7.17993514e-07 6.48249549e-07\n",
      " 6.44753120e-07 5.63484133e-07 5.31194308e-07 5.14228433e-07\n",
      " 5.07666441e-07 5.00313471e-07 4.64629482e-07 4.20408023e-07\n",
      " 3.88930705e-07 2.68667232e-07 2.67050006e-07 1.97174555e-07\n",
      " 1.87581122e-07 1.74202728e-07 1.63060015e-07 1.47513770e-07\n",
      " 1.45202326e-07 1.34148604e-07 1.33002092e-07 1.30587828e-07\n",
      " 1.28567674e-07 1.26593636e-07 1.20636612e-07 1.13619726e-07\n",
      " 1.03427874e-07 1.01336140e-07 9.79543174e-08 9.37923645e-08\n",
      " 9.32133099e-08 9.18748149e-08 8.83808231e-08 8.33127189e-08\n",
      " 8.15139962e-08 8.01911560e-08 7.65426162e-08 7.52592376e-08\n",
      " 7.26051228e-08 6.80856209e-08 6.66961580e-08 6.37341362e-08\n",
      " 6.32979003e-08 6.12769924e-08 6.04571684e-08 5.96288160e-08\n",
      " 5.85506386e-08 5.67609094e-08 5.39642414e-08 5.20762640e-08\n",
      " 4.48839227e-08 4.44731323e-08 3.99604374e-08 3.86328397e-08\n",
      " 3.36408021e-08 3.27519221e-08 3.13103409e-08 2.99221437e-08\n",
      " 2.80252256e-08 2.69277694e-08 2.43984493e-08 2.41473585e-08\n",
      " 2.32738892e-08 2.28994183e-08 2.22651562e-08 2.06291187e-08\n",
      " 1.84605586e-08 1.76681781e-08 1.71649798e-08 1.25572080e-08\n",
      " 1.23766618e-08 1.15295167e-08 1.11578737e-08 1.08249524e-08\n",
      " 9.58342861e-09 9.06257154e-09 8.35016656e-09 7.56519410e-09\n",
      " 7.39725408e-09 7.22078248e-09 4.00243701e-09 3.83107178e-09\n",
      " 3.26708671e-09 3.05657174e-09 2.43639339e-09 1.08557567e-09\n",
      " 1.02504304e-09 5.67170095e-10 7.10810044e-11]\n",
      "Cumulative Explained Variance: [0.62684028 0.93463507 0.97586177 0.99919568 0.99996176 0.9999758\n",
      " 0.99998605 0.99998737 0.99998834 0.99998919 0.99998991 0.99999055\n",
      " 0.9999912  0.99999176 0.99999229 0.99999281 0.99999332 0.99999382\n",
      " 0.99999428 0.9999947  0.99999509 0.99999536 0.99999563 0.99999582\n",
      " 0.99999601 0.99999618 0.99999635 0.9999965  0.99999664 0.99999677\n",
      " 0.99999691 0.99999704 0.99999717 0.99999729 0.99999741 0.99999753\n",
      " 0.99999763 0.99999773 0.99999783 0.99999792 0.99999802 0.99999811\n",
      " 0.9999982  0.99999828 0.99999836 0.99999844 0.99999852 0.99999859\n",
      " 0.99999867 0.99999874 0.9999988  0.99999887 0.99999893 0.99999899\n",
      " 0.99999905 0.99999911 0.99999917 0.99999923 0.99999928 0.99999933\n",
      " 0.99999938 0.99999942 0.99999946 0.9999995  0.99999953 0.99999957\n",
      " 0.9999996  0.99999963 0.99999966 0.99999968 0.99999971 0.99999973\n",
      " 0.99999975 0.99999978 0.9999998  0.99999982 0.99999984 0.99999986\n",
      " 0.99999987 0.99999989 0.9999999  0.99999991 0.99999992 0.99999993\n",
      " 0.99999994 0.99999995 0.99999996 0.99999997 0.99999997 0.99999998\n",
      " 0.99999998 0.99999999 0.99999999 0.99999999 1.         1.\n",
      " 1.         1.         1.        ]\n"
     ]
    }
   ],
   "source": [
    "# Step 3: Explained Variance Ratio\n",
    "# Step 3: Explained Variance Ratio\n",
    "explained_variance_ratio = pca.explained_variance_ratio_  # Corrected typo here\n",
    "print(\"Explained Variance Ratio:\", explained_variance_ratio)\n",
    "\n",
    "# Calculate the cumulative explained variance\n",
    "cumulative_explained_variance = np.cumsum(explained_variance_ratio)\n",
    "print(\"Cumulative Explained Variance:\", cumulative_explained_variance)\n"
   ]
  },
  {
   "cell_type": "code",
   "execution_count": 43,
   "id": "9bd02da9-e415-4d02-b8bd-8962ac6c1282",
   "metadata": {},
   "outputs": [
    {
     "name": "stdout",
     "output_type": "stream",
     "text": [
      "Number of components needed to reach 90.0% variance: 2\n"
     ]
    }
   ],
   "source": [
    "# Determine the number of components needed to reach ~95% variance\n",
    "target_variance = 0.90\n",
    "num_components = np.argmax(cumulative_explained_variance >= target_variance) +1\n",
    "print(f\"Number of components needed to reach {target_variance*100}% variance: {num_components}\")"
   ]
  },
  {
   "cell_type": "code",
   "execution_count": 46,
   "id": "321d9572-b11e-4c27-b206-c4d662321826",
   "metadata": {},
   "outputs": [
    {
     "data": {
      "image/png": "[encoded data removed]",
      "text/plain": [
       "<Figure size 720x432 with 1 Axes>"
      ]
     },
     "metadata": {
      "needs_background": "light"
     },
     "output_type": "display_data"
    }
   ],
   "source": [
    "# Plot cumulative explained variance\n",
    "plt.figure(figsize=(10, 6))\n",
    "plt.plot(range(1, len(cumulative_explained_variance) + 1), cumulative_explained_variance, marker='o', linestyle='--')\n",
    "plt.xlabel('Number of Components')\n",
    "plt.ylabel('Cumulative Explained Variance')\n",
    "plt.title('Explained Variance by PCA Components')\n",
    "plt.axhline(y=target_variance, color='g', linestyle='-')\n",
    "plt.axvline(x=num_components, color='r', linestyle='--', label=f'{num_components} Components')\n",
    "plt.legend(loc='best')\n",
    "plt.grid()\n",
    "plt.show()"
   ]
  },
  {
   "cell_type": "code",
   "execution_count": 95,
   "id": "391613b2-3740-426d-8d8b-456ff0733f2b",
   "metadata": {},
   "outputs": [],
   "source": [
    "# declare feature vector and target variable\n",
    "\n",
    "X = df[['contact_duration', 'euribor_3_months_rate','number_employees','housing_loan_yes',]]\n",
    "y = df['y']"
   ]
  },
  {
   "cell_type": "code",
   "execution_count": 97,
   "id": "efb43bb9-a86d-47a2-9fe8-3c44d74d056e",
   "metadata": {},
   "outputs": [],
   "source": [
    "# split data into training and testing sets\n",
    "\n",
    "from sklearn.model_selection import train_test_split\n",
    "\n",
    "X_train, X_test, y_train, y_test = train_test_split(X, y, test_size = 0.33, random_state = 42)"
   ]
  },
  {
   "cell_type": "code",
   "execution_count": 99,
   "id": "d9aadfcc-24ff-436e-a0b4-96d795c5bc7d",
   "metadata": {},
   "outputs": [
    {
     "name": "stdout",
     "output_type": "stream",
     "text": [
      "Model accuracy score with doors variable removed : 0.8991\n"
     ]
    }
   ],
   "source": [
    "# instantiate the classifier with n_estimators = 100\n",
    "\n",
    "clf = RandomForestClassifier(random_state=0,min_samples_leaf=3,n_estimators = 100)\n",
    "\n",
    "\n",
    "\n",
    "# fit the model to the training set\n",
    "\n",
    "clf.fit(X_train, y_train)\n",
    "\n",
    "\n",
    "# Predict on the test set results\n",
    "\n",
    "y_pred = clf.predict(X_test)\n",
    "\n",
    "\n",
    "\n",
    "# Check accuracy score \n",
    "\n",
    "print('Model accuracy score with doors variable removed : {0:0.4f}'. format(accuracy_score(y_test, y_pred)))"
   ]
  },
  {
   "cell_type": "code",
   "execution_count": 103,
   "id": "a2b619a6-40a3-4b79-870f-8502716d7b92",
   "metadata": {},
   "outputs": [
    {
     "name": "stdout",
     "output_type": "stream",
     "text": [
      "Confusion matrix\n",
      "\n",
      " [[7495 1073]\n",
      " [ 652 7874]]\n"
     ]
    }
   ],
   "source": [
    "# Print the Confusion Matrix and slice it into four pieces\n",
    "\n",
    "from sklearn.metrics import confusion_matrix\n",
    "\n",
    "cm = confusion_matrix(y_test, y_pred)\n",
    "\n",
    "print('Confusion matrix\\n\\n', cm)"
   ]
  },
  {
   "cell_type": "code",
   "execution_count": 107,
   "id": "65611bf9-0dc9-4d10-ae13-84a047a57090",
   "metadata": {},
   "outputs": [
    {
     "name": "stdout",
     "output_type": "stream",
     "text": [
      "              precision    recall  f1-score   support\n",
      "\n",
      "           0       0.92      0.87      0.90      8568\n",
      "           1       0.88      0.92      0.90      8526\n",
      "\n",
      "    accuracy                           0.90     17094\n",
      "   macro avg       0.90      0.90      0.90     17094\n",
      "weighted avg       0.90      0.90      0.90     17094\n",
      "\n"
     ]
    }
   ],
   "source": [
    "from sklearn.metrics import classification_report\n",
    "\n",
    "print(classification_report(y_test, y_pred))"
   ]
  }
 ],
 "metadata": {
  "kernelspec": {
   "display_name": "anaconda-2022.05-py39",
   "language": "python",
   "name": "conda-env-anaconda-2022.05-py39-py"
  },
  "language_info": {
   "codemirror_mode": {
    "name": "ipython",
    "version": 3
   },
   "file_extension": ".py",
   "mimetype": "text/x-python",
   "name": "python",
   "nbconvert_exporter": "python",
   "pygments_lexer": "ipython3",
   "version": "3.9.12"
  }
 },
 "nbformat": 4,
 "nbformat_minor": 5
}
